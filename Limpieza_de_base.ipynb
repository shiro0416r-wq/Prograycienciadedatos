{
 "cells": [
  {
   "cell_type": "markdown",
   "id": "58ce338c",
   "metadata": {},
   "source": [
    "# Limpieza base de datos #"
   ]
  },
  {
   "cell_type": "markdown",
   "id": "55aab904",
   "metadata": {},
   "source": [
    "Saludos. El dia de hoy haremos la limpieza de la base de datos llamada \"Video Game Sales\" proveniente de Kaggle, una plataforma que permite acceder a diferentes datasets. En esta se analizan los datos de venta de mas de 16,500 videojuegos. Contiene la lista de los videojuegos con ventas mayores a 100,000. A continuacion una descripcion breve de cada columna:\n",
    "\n",
    "1.-Rank: Ranking en base a las ventas totales\n",
    "\n",
    "2.-Name: Nombre del videojuego\n",
    "\n",
    "3.-Platform: Plataforma en la cual se lanzo el videojuego\n",
    "\n",
    "4.-Year: Año en el que se lanzo el videojuego\n",
    "\n",
    "5.-Genre: Genero del videojuego\n",
    "\n",
    "6.-Publisher: Publisher del videojuego\n",
    "\n",
    "7.-NA_Sales: Ventas en Norteamerica (en millones)\n",
    "\n",
    "8.-EU_Sales: Ventas en europa (en millones)\n",
    "\n",
    "9.-JP_Sales: Ventas en japon (en millones)\n",
    "\n",
    "10.-Other_Sales: Ventas en el resto del mundo (en millones)\n",
    "\n",
    "11.-Global_Sales: Ventas mundiales totales\n",
    "\n",
    "Se narrara mediante markdowns y comentarios el proceso de limpieza de cada una de las columnas."
   ]
  },
  {
   "cell_type": "markdown",
   "id": "245b7cae",
   "metadata": {},
   "source": [
    "# Vistazos iniciales #"
   ]
  },
  {
   "cell_type": "markdown",
   "id": "2a883a1e",
   "metadata": {},
   "source": [
    "Antes de comenzar a limpiar, empezaremos por lo basico: importar nuestras librerias, nuestra base de datos y ver con cuantos datos totales contamos"
   ]
  },
  {
   "cell_type": "code",
   "execution_count": 48,
   "id": "9bf97d1c",
   "metadata": {},
   "outputs": [
    {
     "data": {
      "text/html": [
       "<div>\n",
       "<style scoped>\n",
       "    .dataframe tbody tr th:only-of-type {\n",
       "        vertical-align: middle;\n",
       "    }\n",
       "\n",
       "    .dataframe tbody tr th {\n",
       "        vertical-align: top;\n",
       "    }\n",
       "\n",
       "    .dataframe thead th {\n",
       "        text-align: right;\n",
       "    }\n",
       "</style>\n",
       "<table border=\"1\" class=\"dataframe\">\n",
       "  <thead>\n",
       "    <tr style=\"text-align: right;\">\n",
       "      <th></th>\n",
       "      <th>Rank</th>\n",
       "      <th>Name</th>\n",
       "      <th>Platform</th>\n",
       "      <th>Year</th>\n",
       "      <th>Genre</th>\n",
       "      <th>Publisher</th>\n",
       "      <th>NA_Sales</th>\n",
       "      <th>EU_Sales</th>\n",
       "      <th>JP_Sales</th>\n",
       "      <th>Other_Sales</th>\n",
       "      <th>Global_Sales</th>\n",
       "    </tr>\n",
       "  </thead>\n",
       "  <tbody>\n",
       "    <tr>\n",
       "      <th>0</th>\n",
       "      <td>1</td>\n",
       "      <td>NaN</td>\n",
       "      <td>Wii</td>\n",
       "      <td>2006.0</td>\n",
       "      <td>Sports</td>\n",
       "      <td>Nintendo</td>\n",
       "      <td>41.49</td>\n",
       "      <td>29.02</td>\n",
       "      <td>3.77</td>\n",
       "      <td>8.46</td>\n",
       "      <td>82.74</td>\n",
       "    </tr>\n",
       "    <tr>\n",
       "      <th>1</th>\n",
       "      <td>2</td>\n",
       "      <td>Super Mario Bros.</td>\n",
       "      <td>NES</td>\n",
       "      <td>1985.0</td>\n",
       "      <td>Platform</td>\n",
       "      <td>Nintendo</td>\n",
       "      <td>29.08</td>\n",
       "      <td>3.58</td>\n",
       "      <td>6.81</td>\n",
       "      <td>0.77</td>\n",
       "      <td>40.24</td>\n",
       "    </tr>\n",
       "    <tr>\n",
       "      <th>2</th>\n",
       "      <td>3</td>\n",
       "      <td>Mario Kart Wii</td>\n",
       "      <td>Wii</td>\n",
       "      <td>2008.0</td>\n",
       "      <td>Racing</td>\n",
       "      <td>Nintendo</td>\n",
       "      <td>15.85</td>\n",
       "      <td>12.88</td>\n",
       "      <td>3.79</td>\n",
       "      <td>3.31</td>\n",
       "      <td>35.82</td>\n",
       "    </tr>\n",
       "    <tr>\n",
       "      <th>3</th>\n",
       "      <td>4</td>\n",
       "      <td>Wii Sports Resort</td>\n",
       "      <td>Wii</td>\n",
       "      <td>2009.0</td>\n",
       "      <td>Sports</td>\n",
       "      <td>Nintendo</td>\n",
       "      <td>15.75</td>\n",
       "      <td>11.01</td>\n",
       "      <td>3.28</td>\n",
       "      <td>2.96</td>\n",
       "      <td>33.00</td>\n",
       "    </tr>\n",
       "    <tr>\n",
       "      <th>4</th>\n",
       "      <td>5</td>\n",
       "      <td>Pokemon Red/Pokemon Blue</td>\n",
       "      <td>GB</td>\n",
       "      <td>1996.0</td>\n",
       "      <td>Role-Playing</td>\n",
       "      <td>Nintendo</td>\n",
       "      <td>11.27</td>\n",
       "      <td>8.89</td>\n",
       "      <td>10.22</td>\n",
       "      <td>1.00</td>\n",
       "      <td>31.37</td>\n",
       "    </tr>\n",
       "    <tr>\n",
       "      <th>...</th>\n",
       "      <td>...</td>\n",
       "      <td>...</td>\n",
       "      <td>...</td>\n",
       "      <td>...</td>\n",
       "      <td>...</td>\n",
       "      <td>...</td>\n",
       "      <td>...</td>\n",
       "      <td>...</td>\n",
       "      <td>...</td>\n",
       "      <td>...</td>\n",
       "      <td>...</td>\n",
       "    </tr>\n",
       "    <tr>\n",
       "      <th>19580</th>\n",
       "      <td>NaN</td>\n",
       "      <td>MotoGP 07</td>\n",
       "      <td>PS2</td>\n",
       "      <td>2007.0</td>\n",
       "      <td>Racing</td>\n",
       "      <td>Capcom</td>\n",
       "      <td>0.05</td>\n",
       "      <td>0.04</td>\n",
       "      <td>0.00</td>\n",
       "      <td>0.01</td>\n",
       "      <td>0.10</td>\n",
       "    </tr>\n",
       "    <tr>\n",
       "      <th>19581</th>\n",
       "      <td>12130</td>\n",
       "      <td>Secret Service: Ultimate Sacrifice</td>\n",
       "      <td>PS2</td>\n",
       "      <td>2008.0</td>\n",
       "      <td>NaN</td>\n",
       "      <td>Activision</td>\n",
       "      <td>0.03</td>\n",
       "      <td>0.03</td>\n",
       "      <td>0.00</td>\n",
       "      <td>0.01</td>\n",
       "      <td>0.07</td>\n",
       "    </tr>\n",
       "    <tr>\n",
       "      <th>19582</th>\n",
       "      <td>5887</td>\n",
       "      <td>Monster Truck Madness 64</td>\n",
       "      <td>N64</td>\n",
       "      <td>1999.0</td>\n",
       "      <td>Racing</td>\n",
       "      <td>Take-Two Interactive</td>\n",
       "      <td>0.24</td>\n",
       "      <td>0.06</td>\n",
       "      <td>NaN</td>\n",
       "      <td>0.00</td>\n",
       "      <td>0.30</td>\n",
       "    </tr>\n",
       "    <tr>\n",
       "      <th>19583</th>\n",
       "      <td>10408</td>\n",
       "      <td>NaN</td>\n",
       "      <td>PSV</td>\n",
       "      <td>2014.0</td>\n",
       "      <td>Role-Playing</td>\n",
       "      <td>Ubisoft</td>\n",
       "      <td>0.00</td>\n",
       "      <td>0.07</td>\n",
       "      <td>0.02</td>\n",
       "      <td>0.02</td>\n",
       "      <td>0.11</td>\n",
       "    </tr>\n",
       "    <tr>\n",
       "      <th>19584</th>\n",
       "      <td>13608</td>\n",
       "      <td>The Monkey King: The Legend Begins</td>\n",
       "      <td>NaN</td>\n",
       "      <td>2007.0</td>\n",
       "      <td>Shooter</td>\n",
       "      <td>Starfish</td>\n",
       "      <td>0.04</td>\n",
       "      <td>NaN</td>\n",
       "      <td>0.00</td>\n",
       "      <td>0.00</td>\n",
       "      <td>0.04</td>\n",
       "    </tr>\n",
       "  </tbody>\n",
       "</table>\n",
       "<p>19585 rows × 11 columns</p>\n",
       "</div>"
      ],
      "text/plain": [
       "        Rank                                Name Platform    Year  \\\n",
       "0          1                                 NaN      Wii  2006.0   \n",
       "1          2                   Super Mario Bros.      NES  1985.0   \n",
       "2          3                      Mario Kart Wii      Wii  2008.0   \n",
       "3          4                   Wii Sports Resort      Wii  2009.0   \n",
       "4          5            Pokemon Red/Pokemon Blue       GB  1996.0   \n",
       "...      ...                                 ...      ...     ...   \n",
       "19580    NaN                           MotoGP 07      PS2  2007.0   \n",
       "19581  12130  Secret Service: Ultimate Sacrifice      PS2  2008.0   \n",
       "19582   5887            Monster Truck Madness 64      N64  1999.0   \n",
       "19583  10408                                 NaN      PSV  2014.0   \n",
       "19584  13608  The Monkey King: The Legend Begins      NaN  2007.0   \n",
       "\n",
       "              Genre             Publisher  NA_Sales  EU_Sales  JP_Sales  \\\n",
       "0            Sports              Nintendo     41.49     29.02      3.77   \n",
       "1          Platform              Nintendo     29.08      3.58      6.81   \n",
       "2            Racing              Nintendo     15.85     12.88      3.79   \n",
       "3            Sports              Nintendo     15.75     11.01      3.28   \n",
       "4      Role-Playing              Nintendo     11.27      8.89     10.22   \n",
       "...             ...                   ...       ...       ...       ...   \n",
       "19580        Racing                Capcom      0.05      0.04      0.00   \n",
       "19581           NaN            Activision      0.03      0.03      0.00   \n",
       "19582        Racing  Take-Two Interactive      0.24      0.06       NaN   \n",
       "19583  Role-Playing               Ubisoft      0.00      0.07      0.02   \n",
       "19584       Shooter              Starfish      0.04       NaN      0.00   \n",
       "\n",
       "       Other_Sales  Global_Sales  \n",
       "0             8.46         82.74  \n",
       "1             0.77         40.24  \n",
       "2             3.31         35.82  \n",
       "3             2.96         33.00  \n",
       "4             1.00         31.37  \n",
       "...            ...           ...  \n",
       "19580         0.01          0.10  \n",
       "19581         0.01          0.07  \n",
       "19582         0.00          0.30  \n",
       "19583         0.02          0.11  \n",
       "19584         0.00          0.04  \n",
       "\n",
       "[19585 rows x 11 columns]"
      ]
     },
     "execution_count": 48,
     "metadata": {},
     "output_type": "execute_result"
    }
   ],
   "source": [
    "# Importamos nuestras librerias\n",
    "import pandas as pd \n",
    "import numpy as np\n",
    "\n",
    "#Importamos nuestra base de datos\n",
    "df = pd.read_csv(\"df_sucio.csv\")\n",
    "df"
   ]
  },
  {
   "cell_type": "markdown",
   "id": "8d989495",
   "metadata": {},
   "source": [
    "Ahora que tenemos nuestra base de datos, observamosla cantidad de datos con la que contamos, el tipo de dato de cada columna y con cuantos datos nulos contamos en cada una de nuestras columnas siendo estos nuestra mayor prioridad para, posteriormente, comenzar con la limpieza"
   ]
  },
  {
   "cell_type": "code",
   "execution_count": null,
   "id": "747c054f",
   "metadata": {},
   "outputs": [
    {
     "data": {
      "text/plain": [
       "(19585, 11)"
      ]
     },
     "execution_count": 7,
     "metadata": {},
     "output_type": "execute_result"
    }
   ],
   "source": [
    "#Verificar cuantos datos tenemos\n",
    "df.shape"
   ]
  },
  {
   "cell_type": "code",
   "execution_count": null,
   "id": "2c28b01f",
   "metadata": {},
   "outputs": [
    {
     "data": {
      "text/plain": [
       "Rank            587\n",
       "Name            587\n",
       "Platform        587\n",
       "Year            898\n",
       "Genre           587\n",
       "Publisher       654\n",
       "NA_Sales        587\n",
       "EU_Sales        587\n",
       "JP_Sales        587\n",
       "Other_Sales     587\n",
       "Global_Sales    970\n",
       "dtype: int64"
      ]
     },
     "execution_count": 2,
     "metadata": {},
     "output_type": "execute_result"
    }
   ],
   "source": [
    "#Verificamos cuantos datos nulos tenemos en cada columna\n",
    "df.isnull().sum()"
   ]
  },
  {
   "cell_type": "code",
   "execution_count": null,
   "id": "1638193a",
   "metadata": {},
   "outputs": [
    {
     "name": "stdout",
     "output_type": "stream",
     "text": [
      "<class 'pandas.core.frame.DataFrame'>\n",
      "RangeIndex: 19585 entries, 0 to 19584\n",
      "Data columns (total 11 columns):\n",
      " #   Column        Non-Null Count  Dtype  \n",
      "---  ------        --------------  -----  \n",
      " 0   Rank          18998 non-null  object \n",
      " 1   Name          18998 non-null  object \n",
      " 2   Platform      18998 non-null  object \n",
      " 3   Year          18687 non-null  object \n",
      " 4   Genre         18998 non-null  object \n",
      " 5   Publisher     18931 non-null  object \n",
      " 6   NA_Sales      18998 non-null  float64\n",
      " 7   EU_Sales      18998 non-null  float64\n",
      " 8   JP_Sales      18998 non-null  float64\n",
      " 9   Other_Sales   18998 non-null  float64\n",
      " 10  Global_Sales  18615 non-null  float64\n",
      "dtypes: float64(5), object(6)\n",
      "memory usage: 1.6+ MB\n"
     ]
    }
   ],
   "source": [
    "#Verificamos cuales son los tipos de datos de cada columna\n",
    "df.info()"
   ]
  },
  {
   "cell_type": "markdown",
   "id": "d8901243",
   "metadata": {},
   "source": [
    "# Limpieza incial #"
   ]
  },
  {
   "cell_type": "markdown",
   "id": "eeb7113d",
   "metadata": {},
   "source": [
    "Antes de comenzar con la limpieza de la base de datos por columna, aplicaremos un comando bastante general para deshacernos de datos innecesarios en momentos tempranos. \n",
    "Hablo del comando drop_duplicates(), el cual se deshara de todos los datos duplicados con los cuales contemos en la base de datos."
   ]
  },
  {
   "cell_type": "code",
   "execution_count": 49,
   "id": "4a85dcf6",
   "metadata": {},
   "outputs": [
    {
     "data": {
      "text/html": [
       "<div>\n",
       "<style scoped>\n",
       "    .dataframe tbody tr th:only-of-type {\n",
       "        vertical-align: middle;\n",
       "    }\n",
       "\n",
       "    .dataframe tbody tr th {\n",
       "        vertical-align: top;\n",
       "    }\n",
       "\n",
       "    .dataframe thead th {\n",
       "        text-align: right;\n",
       "    }\n",
       "</style>\n",
       "<table border=\"1\" class=\"dataframe\">\n",
       "  <thead>\n",
       "    <tr style=\"text-align: right;\">\n",
       "      <th></th>\n",
       "      <th>Rank</th>\n",
       "      <th>Name</th>\n",
       "      <th>Platform</th>\n",
       "      <th>Year</th>\n",
       "      <th>Genre</th>\n",
       "      <th>Publisher</th>\n",
       "      <th>NA_Sales</th>\n",
       "      <th>EU_Sales</th>\n",
       "      <th>JP_Sales</th>\n",
       "      <th>Other_Sales</th>\n",
       "      <th>Global_Sales</th>\n",
       "    </tr>\n",
       "  </thead>\n",
       "  <tbody>\n",
       "    <tr>\n",
       "      <th>0</th>\n",
       "      <td>1</td>\n",
       "      <td>NaN</td>\n",
       "      <td>Wii</td>\n",
       "      <td>2006.0</td>\n",
       "      <td>Sports</td>\n",
       "      <td>Nintendo</td>\n",
       "      <td>41.49</td>\n",
       "      <td>29.02</td>\n",
       "      <td>3.77</td>\n",
       "      <td>8.46</td>\n",
       "      <td>82.74</td>\n",
       "    </tr>\n",
       "    <tr>\n",
       "      <th>1</th>\n",
       "      <td>2</td>\n",
       "      <td>Super Mario Bros.</td>\n",
       "      <td>NES</td>\n",
       "      <td>1985.0</td>\n",
       "      <td>Platform</td>\n",
       "      <td>Nintendo</td>\n",
       "      <td>29.08</td>\n",
       "      <td>3.58</td>\n",
       "      <td>6.81</td>\n",
       "      <td>0.77</td>\n",
       "      <td>40.24</td>\n",
       "    </tr>\n",
       "    <tr>\n",
       "      <th>2</th>\n",
       "      <td>3</td>\n",
       "      <td>Mario Kart Wii</td>\n",
       "      <td>Wii</td>\n",
       "      <td>2008.0</td>\n",
       "      <td>Racing</td>\n",
       "      <td>Nintendo</td>\n",
       "      <td>15.85</td>\n",
       "      <td>12.88</td>\n",
       "      <td>3.79</td>\n",
       "      <td>3.31</td>\n",
       "      <td>35.82</td>\n",
       "    </tr>\n",
       "    <tr>\n",
       "      <th>3</th>\n",
       "      <td>4</td>\n",
       "      <td>Wii Sports Resort</td>\n",
       "      <td>Wii</td>\n",
       "      <td>2009.0</td>\n",
       "      <td>Sports</td>\n",
       "      <td>Nintendo</td>\n",
       "      <td>15.75</td>\n",
       "      <td>11.01</td>\n",
       "      <td>3.28</td>\n",
       "      <td>2.96</td>\n",
       "      <td>33.00</td>\n",
       "    </tr>\n",
       "    <tr>\n",
       "      <th>4</th>\n",
       "      <td>5</td>\n",
       "      <td>Pokemon Red/Pokemon Blue</td>\n",
       "      <td>GB</td>\n",
       "      <td>1996.0</td>\n",
       "      <td>Role-Playing</td>\n",
       "      <td>Nintendo</td>\n",
       "      <td>11.27</td>\n",
       "      <td>8.89</td>\n",
       "      <td>10.22</td>\n",
       "      <td>1.00</td>\n",
       "      <td>31.37</td>\n",
       "    </tr>\n",
       "    <tr>\n",
       "      <th>...</th>\n",
       "      <td>...</td>\n",
       "      <td>...</td>\n",
       "      <td>...</td>\n",
       "      <td>...</td>\n",
       "      <td>...</td>\n",
       "      <td>...</td>\n",
       "      <td>...</td>\n",
       "      <td>...</td>\n",
       "      <td>...</td>\n",
       "      <td>...</td>\n",
       "      <td>...</td>\n",
       "    </tr>\n",
       "    <tr>\n",
       "      <th>19580</th>\n",
       "      <td>NaN</td>\n",
       "      <td>MotoGP 07</td>\n",
       "      <td>PS2</td>\n",
       "      <td>2007.0</td>\n",
       "      <td>Racing</td>\n",
       "      <td>Capcom</td>\n",
       "      <td>0.05</td>\n",
       "      <td>0.04</td>\n",
       "      <td>0.00</td>\n",
       "      <td>0.01</td>\n",
       "      <td>0.10</td>\n",
       "    </tr>\n",
       "    <tr>\n",
       "      <th>19581</th>\n",
       "      <td>12130</td>\n",
       "      <td>Secret Service: Ultimate Sacrifice</td>\n",
       "      <td>PS2</td>\n",
       "      <td>2008.0</td>\n",
       "      <td>NaN</td>\n",
       "      <td>Activision</td>\n",
       "      <td>0.03</td>\n",
       "      <td>0.03</td>\n",
       "      <td>0.00</td>\n",
       "      <td>0.01</td>\n",
       "      <td>0.07</td>\n",
       "    </tr>\n",
       "    <tr>\n",
       "      <th>19582</th>\n",
       "      <td>5887</td>\n",
       "      <td>Monster Truck Madness 64</td>\n",
       "      <td>N64</td>\n",
       "      <td>1999.0</td>\n",
       "      <td>Racing</td>\n",
       "      <td>Take-Two Interactive</td>\n",
       "      <td>0.24</td>\n",
       "      <td>0.06</td>\n",
       "      <td>NaN</td>\n",
       "      <td>0.00</td>\n",
       "      <td>0.30</td>\n",
       "    </tr>\n",
       "    <tr>\n",
       "      <th>19583</th>\n",
       "      <td>10408</td>\n",
       "      <td>NaN</td>\n",
       "      <td>PSV</td>\n",
       "      <td>2014.0</td>\n",
       "      <td>Role-Playing</td>\n",
       "      <td>Ubisoft</td>\n",
       "      <td>0.00</td>\n",
       "      <td>0.07</td>\n",
       "      <td>0.02</td>\n",
       "      <td>0.02</td>\n",
       "      <td>0.11</td>\n",
       "    </tr>\n",
       "    <tr>\n",
       "      <th>19584</th>\n",
       "      <td>13608</td>\n",
       "      <td>The Monkey King: The Legend Begins</td>\n",
       "      <td>NaN</td>\n",
       "      <td>2007.0</td>\n",
       "      <td>Shooter</td>\n",
       "      <td>Starfish</td>\n",
       "      <td>0.04</td>\n",
       "      <td>NaN</td>\n",
       "      <td>0.00</td>\n",
       "      <td>0.00</td>\n",
       "      <td>0.04</td>\n",
       "    </tr>\n",
       "  </tbody>\n",
       "</table>\n",
       "<p>18301 rows × 11 columns</p>\n",
       "</div>"
      ],
      "text/plain": [
       "        Rank                                Name Platform    Year  \\\n",
       "0          1                                 NaN      Wii  2006.0   \n",
       "1          2                   Super Mario Bros.      NES  1985.0   \n",
       "2          3                      Mario Kart Wii      Wii  2008.0   \n",
       "3          4                   Wii Sports Resort      Wii  2009.0   \n",
       "4          5            Pokemon Red/Pokemon Blue       GB  1996.0   \n",
       "...      ...                                 ...      ...     ...   \n",
       "19580    NaN                           MotoGP 07      PS2  2007.0   \n",
       "19581  12130  Secret Service: Ultimate Sacrifice      PS2  2008.0   \n",
       "19582   5887            Monster Truck Madness 64      N64  1999.0   \n",
       "19583  10408                                 NaN      PSV  2014.0   \n",
       "19584  13608  The Monkey King: The Legend Begins      NaN  2007.0   \n",
       "\n",
       "              Genre             Publisher  NA_Sales  EU_Sales  JP_Sales  \\\n",
       "0            Sports              Nintendo     41.49     29.02      3.77   \n",
       "1          Platform              Nintendo     29.08      3.58      6.81   \n",
       "2            Racing              Nintendo     15.85     12.88      3.79   \n",
       "3            Sports              Nintendo     15.75     11.01      3.28   \n",
       "4      Role-Playing              Nintendo     11.27      8.89     10.22   \n",
       "...             ...                   ...       ...       ...       ...   \n",
       "19580        Racing                Capcom      0.05      0.04      0.00   \n",
       "19581           NaN            Activision      0.03      0.03      0.00   \n",
       "19582        Racing  Take-Two Interactive      0.24      0.06       NaN   \n",
       "19583  Role-Playing               Ubisoft      0.00      0.07      0.02   \n",
       "19584       Shooter              Starfish      0.04       NaN      0.00   \n",
       "\n",
       "       Other_Sales  Global_Sales  \n",
       "0             8.46         82.74  \n",
       "1             0.77         40.24  \n",
       "2             3.31         35.82  \n",
       "3             2.96         33.00  \n",
       "4             1.00         31.37  \n",
       "...            ...           ...  \n",
       "19580         0.01          0.10  \n",
       "19581         0.01          0.07  \n",
       "19582         0.00          0.30  \n",
       "19583         0.02          0.11  \n",
       "19584         0.00          0.04  \n",
       "\n",
       "[18301 rows x 11 columns]"
      ]
     },
     "execution_count": 49,
     "metadata": {},
     "output_type": "execute_result"
    }
   ],
   "source": [
    "df = df.drop_duplicates()\n",
    "df"
   ]
  },
  {
   "cell_type": "code",
   "execution_count": 14,
   "id": "d2f6d608",
   "metadata": {},
   "outputs": [
    {
     "data": {
      "text/plain": [
       "(18301, 11)"
      ]
     },
     "execution_count": 14,
     "metadata": {},
     "output_type": "execute_result"
    }
   ],
   "source": [
    "df.shape"
   ]
  },
  {
   "cell_type": "markdown",
   "id": "f88b89c0",
   "metadata": {},
   "source": [
    "De esta forma podemos observar como pasamos de 19,585 datos a 18,301. Es decir, nos deshicimos de 1284 datos duplicados"
   ]
  },
  {
   "cell_type": "markdown",
   "id": "3fcb38c4",
   "metadata": {},
   "source": [
    "----------------------------------------------------------------------------------------------------------------------------------------"
   ]
  },
  {
   "cell_type": "markdown",
   "id": "115b7d2b",
   "metadata": {},
   "source": [
    "# Limpieza columna \"Rank\" #"
   ]
  },
  {
   "cell_type": "markdown",
   "id": "5c0f91af",
   "metadata": {},
   "source": [
    "Para empezar con la limpieza de la columna rank nos encontramos con un problema bastante obvio, y es que esta definido como una columna de tipo \"object\" cuando deberia ser \"int\", esto debido a que en esta columna \n",
    "se clasifican los juegos del mayor al menor en ventas. \n",
    "\n",
    "Si bien podriamos cambiar el tipo de dato de esta columna, al ser esta misma practicamente irrelevante para nuestro analisis, optaremos por ignorar ese detalle y procederemos directamente con la limpieza\n",
    "\n",
    "Como se menciono anteriormente esta columna no es vital para nuestro analisis, lo que significa que el registro no pierde valor aunque no cuente con este dato, ademas de que en caso de necesitarlo, este se podria inferir facilmente por medio de sus ventas globales.\n",
    "\n",
    "Entonces para limpiar esta columna de datos nulos e invalidos, se opto por convertir los datos invalidos a datos nulos (NaN) para posteriormente rellenarlos con el numero 0"
   ]
  },
  {
   "cell_type": "code",
   "execution_count": null,
   "id": "e2d4a7b5",
   "metadata": {},
   "outputs": [
    {
     "data": {
      "text/plain": [
       "Rank\n",
       "Auto%#    381\n",
       "11937       3\n",
       "12869       3\n",
       "10521       3\n",
       "9250        3\n",
       "         ... \n",
       "8213        1\n",
       "11938       1\n",
       "28          1\n",
       "11          1\n",
       "10          1\n",
       "Name: count, Length: 15916, dtype: int64"
      ]
     },
     "execution_count": 15,
     "metadata": {},
     "output_type": "execute_result"
    }
   ],
   "source": [
    "# 1.- Verificar los datos invalidos con los que se cuentan\n",
    "df[\"Rank\"].value_counts()"
   ]
  },
  {
   "cell_type": "code",
   "execution_count": 50,
   "id": "320cb042",
   "metadata": {},
   "outputs": [
    {
     "name": "stderr",
     "output_type": "stream",
     "text": [
      "C:\\Users\\USER\\AppData\\Local\\Temp\\ipykernel_23764\\3798563786.py:2: SettingWithCopyWarning: \n",
      "A value is trying to be set on a copy of a slice from a DataFrame.\n",
      "Try using .loc[row_indexer,col_indexer] = value instead\n",
      "\n",
      "See the caveats in the documentation: https://pandas.pydata.org/pandas-docs/stable/user_guide/indexing.html#returning-a-view-versus-a-copy\n",
      "  df[\"Rank\"] = df[\"Rank\"].replace(\"Auto%#\", np.nan)\n"
     ]
    }
   ],
   "source": [
    "#2.- Una vez identificados los datos invalidos con los que se cuentan, procedemos a reemplazarlos por datos nulos\n",
    "df[\"Rank\"] = df[\"Rank\"].replace(\"Auto%#\", np.nan)"
   ]
  },
  {
   "cell_type": "code",
   "execution_count": 51,
   "id": "43184064",
   "metadata": {},
   "outputs": [
    {
     "name": "stderr",
     "output_type": "stream",
     "text": [
      "C:\\Users\\USER\\AppData\\Local\\Temp\\ipykernel_23764\\318007094.py:2: SettingWithCopyWarning: \n",
      "A value is trying to be set on a copy of a slice from a DataFrame.\n",
      "Try using .loc[row_indexer,col_indexer] = value instead\n",
      "\n",
      "See the caveats in the documentation: https://pandas.pydata.org/pandas-docs/stable/user_guide/indexing.html#returning-a-view-versus-a-copy\n",
      "  df[\"Rank\"] = df[\"Rank\"].fillna(0)\n"
     ]
    }
   ],
   "source": [
    "#3.- Una vez sin datos invalidos, procedemos a rellenar los datos NaN con el numero 0\n",
    "df[\"Rank\"] = df[\"Rank\"].fillna(0)"
   ]
  },
  {
   "cell_type": "code",
   "execution_count": 52,
   "id": "a34942cb",
   "metadata": {},
   "outputs": [
    {
     "data": {
      "text/plain": [
       "np.int64(0)"
      ]
     },
     "execution_count": 52,
     "metadata": {},
     "output_type": "execute_result"
    }
   ],
   "source": [
    "#4.- Finalmente, procedemos a verificar que ya no contamos con ningun dato nulo\n",
    "df[\"Rank\"].isnull().sum()"
   ]
  },
  {
   "cell_type": "markdown",
   "id": "c7e113a2",
   "metadata": {},
   "source": [
    "-------------------------------------------------------------------------------------"
   ]
  },
  {
   "cell_type": "markdown",
   "id": "05f211e0",
   "metadata": {},
   "source": [
    "# Limpieza columna \"Name\" #"
   ]
  },
  {
   "cell_type": "markdown",
   "id": "bf2536d7",
   "metadata": {},
   "source": [
    "La limpieza de esta columna resulta bastante sencilla en cuanto a los datos nulos e invalidos, ya que esta columna es VITAL para el analisis. Por lo tanto, si un registro cuenta con un dato NaN o invalido\n",
    "\n",
    "en esta columna, automaticamente pierde todo el valor. Por lo tanto se tomo la desicion de dropear estos registros"
   ]
  },
  {
   "cell_type": "code",
   "execution_count": null,
   "id": "4475550c",
   "metadata": {},
   "outputs": [
    {
     "data": {
      "text/plain": [
       "array(['Super Mario Bros.', 'Mario Kart Wii', 'Wii Sports Resort', ...,\n",
       "       'Doom 64', 'The Sims 2: Nightlife',\n",
       "       'Naruto Shippuden: Ninja Destiny 2'], shape=(10449,), dtype=object)"
      ]
     },
     "execution_count": 93,
     "metadata": {},
     "output_type": "execute_result"
    }
   ],
   "source": [
    "#identificamos datos invalidos\n",
    "df[\"Name\"].unique()"
   ]
  },
  {
   "cell_type": "code",
   "execution_count": 94,
   "id": "dc1bcf8c",
   "metadata": {},
   "outputs": [],
   "source": [
    "#1.- Una vez identificados los datos invalidos con los que se cuentan, procedemos a reemplazarlos por datos nulos\n",
    "df[\"Name\"] = df[\"Name\"].replace(\"Auto%#\", np.nan)"
   ]
  },
  {
   "cell_type": "code",
   "execution_count": 95,
   "id": "65b885e0",
   "metadata": {},
   "outputs": [],
   "source": [
    "#2.- Dropeamos los datos NaN\n",
    "df = df.dropna(subset=['Name'])"
   ]
  },
  {
   "cell_type": "code",
   "execution_count": null,
   "id": "54a3c4a7",
   "metadata": {},
   "outputs": [
    {
     "data": {
      "text/plain": [
       "np.int64(0)"
      ]
     },
     "execution_count": 25,
     "metadata": {},
     "output_type": "execute_result"
    }
   ],
   "source": [
    "#3.- Comprobamos que ya no contamos con datos nulos\n",
    "df[\"Name\"].isnull().sum()"
   ]
  },
  {
   "cell_type": "markdown",
   "id": "c045ee06",
   "metadata": {},
   "source": [
    "-------------------------------------------------------"
   ]
  },
  {
   "cell_type": "markdown",
   "id": "934fcf75",
   "metadata": {},
   "source": [
    "# Limpieza columnas de ventas #"
   ]
  },
  {
   "cell_type": "markdown",
   "id": "13a2aa27",
   "metadata": {},
   "source": [
    "Al todas contener un mismo tipo de datos las englobare todas en una sola seccion\n",
    "\n",
    "Para la limpieza y posterior recuperacion de la mayor cantidad de datos posibles se hara lo siguiente:\n",
    "\n",
    "La columna global sales se basa en la suma de las demas columnas de ventas, por lo tanto, podemos calcular facilmente cualquier dato faltante en alguna de estas columnas SIEMPRE Y CUANDO no se cuente con mas de un dato nan. Entonces lo que se hara a continuacion sera eso mismo: filtrar para quedarnos solamente con los registros que cuentan solamente con 1 o ningun dato nulo en estas columnas, para posteriormente calcularos y rellenarlos."
   ]
  },
  {
   "cell_type": "code",
   "execution_count": 54,
   "id": "88694ca6",
   "metadata": {},
   "outputs": [],
   "source": [
    "# 1.- Crear una lista con las columnas de ventas\n",
    "columnas_ventas = ['NA_Sales', 'EU_Sales', 'JP_Sales', 'Other_Sales', 'Global_Sales']"
   ]
  },
  {
   "cell_type": "code",
   "execution_count": 55,
   "id": "ed26b155",
   "metadata": {},
   "outputs": [
    {
     "name": "stderr",
     "output_type": "stream",
     "text": [
      "C:\\Users\\USER\\AppData\\Local\\Temp\\ipykernel_23764\\856809694.py:2: SettingWithCopyWarning: \n",
      "A value is trying to be set on a copy of a slice from a DataFrame.\n",
      "Try using .loc[row_indexer,col_indexer] = value instead\n",
      "\n",
      "See the caveats in the documentation: https://pandas.pydata.org/pandas-docs/stable/user_guide/indexing.html#returning-a-view-versus-a-copy\n",
      "  df[\"NaN_Counts\"] = df[columnas_ventas].isna().sum(axis=1)\n"
     ]
    }
   ],
   "source": [
    "#2.- Creamos una columna que contara cuantos datos NaN tiene un registro en las columnas de ventas\n",
    "df[\"NaN_Counts\"] = df[columnas_ventas].isna().sum(axis=1)"
   ]
  },
  {
   "cell_type": "code",
   "execution_count": 56,
   "id": "9b56329b",
   "metadata": {},
   "outputs": [],
   "source": [
    "#3.- Ahora conservamos solo los registros que contengan 1 o menos datos NaN en las columnas de ventas\n",
    "df = df[df['NaN_Counts'] <= 1]"
   ]
  },
  {
   "cell_type": "code",
   "execution_count": 57,
   "id": "759ab1bb",
   "metadata": {},
   "outputs": [],
   "source": [
    "#4.- Nos deshacemos de la columna que nos auxilio\n",
    "df = df.drop(columns=\"NaN_Counts\")"
   ]
  },
  {
   "cell_type": "markdown",
   "id": "e1dea246",
   "metadata": {},
   "source": [
    "Una vez que ya solamente nos quedamos con los registros de ventas de los cuales podemos calcular cualquiera de sus columnas en caso de tener datos NaN, procedemos a calcularlos."
   ]
  },
  {
   "cell_type": "markdown",
   "id": "7123746d",
   "metadata": {},
   "source": [
    "### Relleno de datos NaN en columnas de ventas ###"
   ]
  },
  {
   "cell_type": "code",
   "execution_count": 58,
   "id": "cc693764",
   "metadata": {},
   "outputs": [],
   "source": [
    "#1.- Crear una lista con los registros NaN de global sales\n",
    "global_nan = df[\"Global_Sales\"].isna()"
   ]
  },
  {
   "cell_type": "code",
   "execution_count": 59,
   "id": "f19e7a98",
   "metadata": {},
   "outputs": [],
   "source": [
    "#2.- Tomamos los registros nulos con .loc y aplicamos la formula\n",
    "#(Se añade .loc a cada uno de los registros a sumarse para aegurarnos que solo se sumen los registros de una misma fila)\n",
    "df.loc[global_nan, \"Global_Sales\"] = (\n",
    "    df.loc[global_nan, 'EU_Sales'] +\n",
    "    df.loc[global_nan, 'JP_Sales'] +\n",
    "    df.loc[global_nan, 'NA_Sales'] +\n",
    "    df.loc[global_nan, 'Other_Sales']\n",
    ")\n"
   ]
  },
  {
   "cell_type": "code",
   "execution_count": 60,
   "id": "182f650c",
   "metadata": {},
   "outputs": [],
   "source": [
    "#3.- Procedemos a hacer lo mismo  con el resto de las columnas de ventas\n",
    "eu_nan = df[\"EU_Sales\"].isna()\n",
    "\n",
    "df.loc[eu_nan, \"EU_Sales\"] = (\n",
    "    df.loc[eu_nan, \"Global_Sales\"]-\n",
    "    df.loc[eu_nan,\"Other_Sales\"]-\n",
    "    df.loc[eu_nan,\"JP_Sales\"]-\n",
    "    df.loc[eu_nan, \"NA_Sales\"]\n",
    ")"
   ]
  },
  {
   "cell_type": "code",
   "execution_count": 61,
   "id": "7545f70b",
   "metadata": {},
   "outputs": [],
   "source": [
    "jp_nan = df[\"JP_Sales\"].isna()\n",
    "\n",
    "df.loc[jp_nan, \"JP_Sales\"] = (\n",
    "    df.loc[jp_nan, \"Global_Sales\"]-\n",
    "    df.loc[jp_nan,\"Other_Sales\"]-\n",
    "    df.loc[jp_nan,\"EU_Sales\"]-\n",
    "    df.loc[jp_nan, \"NA_Sales\"]\n",
    ")"
   ]
  },
  {
   "cell_type": "code",
   "execution_count": 62,
   "id": "04089899",
   "metadata": {},
   "outputs": [],
   "source": [
    "na_nan = df[\"NA_Sales\"].isna()\n",
    "\n",
    "df.loc[na_nan, \"NA_Sales\"] = (\n",
    "    df.loc[na_nan, \"Global_Sales\"]-\n",
    "    df.loc[na_nan,\"Other_Sales\"]-\n",
    "    df.loc[na_nan,\"EU_Sales\"]-\n",
    "    df.loc[na_nan, \"JP_Sales\"]\n",
    ")"
   ]
  },
  {
   "cell_type": "code",
   "execution_count": 63,
   "id": "fcfe1567",
   "metadata": {},
   "outputs": [],
   "source": [
    "other_nan = df[\"Other_Sales\"].isna()\n",
    "\n",
    "df.loc[other_nan, \"Other_Sales\"] = (\n",
    "    df.loc[other_nan, \"Global_Sales\"]-\n",
    "    df.loc[other_nan,\"NA_Sales\"]-\n",
    "    df.loc[other_nan,\"EU_Sales\"]-\n",
    "    df.loc[other_nan, \"JP_Sales\"]\n",
    ")"
   ]
  },
  {
   "cell_type": "code",
   "execution_count": 74,
   "id": "46d5b535",
   "metadata": {},
   "outputs": [
    {
     "data": {
      "text/plain": [
       "Rank              0\n",
       "Name              0\n",
       "Platform        563\n",
       "Year            848\n",
       "Genre           570\n",
       "Publisher       622\n",
       "NA_Sales          0\n",
       "EU_Sales          0\n",
       "JP_Sales          0\n",
       "Other_Sales       0\n",
       "Global_Sales      0\n",
       "dtype: int64"
      ]
     },
     "execution_count": 74,
     "metadata": {},
     "output_type": "execute_result"
    }
   ],
   "source": [
    "#Ahora corroboramos que ya no tenemos datos nulos\n",
    "df.isnull().sum()"
   ]
  },
  {
   "cell_type": "markdown",
   "id": "827133fe",
   "metadata": {},
   "source": [
    "---------------------------------------"
   ]
  },
  {
   "cell_type": "markdown",
   "id": "abc69f36",
   "metadata": {},
   "source": [
    "# Limpieza columna \"Genre\" #"
   ]
  },
  {
   "cell_type": "markdown",
   "id": "1a2c74b8",
   "metadata": {},
   "source": [
    "La limpieza de esta columna en particular es complicada, ya que no podemos imputar manualmente tantos datos nulos. Entonces lo que se intento hacer fue lo siguiente:\n",
    "\n",
    "Hay videojuegos que aparecen varias veces pero fueron lanzados en plataformas diferentes. Sin embargo, datos como el publisher o el genero son el mismo, entonces lo que se intento fue rellenar\n",
    "columnas de juegos que ya estaban repetidos para asi de esa manera no perder tantos registros. A pesar de eso, no todos los juegos cuentan con datos repetidos, por lo tanto los videojuegos de los cuales no se pudo recuperar el genero, fueron dropeados."
   ]
  },
  {
   "cell_type": "code",
   "execution_count": 75,
   "id": "2cee6b50",
   "metadata": {},
   "outputs": [
    {
     "name": "stderr",
     "output_type": "stream",
     "text": [
      "C:\\Users\\USER\\AppData\\Local\\Temp\\ipykernel_23764\\4103135343.py:1: FutureWarning: Series.fillna with 'method' is deprecated and will raise in a future version. Use obj.ffill() or obj.bfill() instead.\n",
      "  df['Genre'] = df.groupby('Name')['Genre'].transform(lambda x: x.fillna(method='ffill').fillna(method='bfill'))\n",
      "C:\\Users\\USER\\AppData\\Local\\Temp\\ipykernel_23764\\4103135343.py:1: FutureWarning: Downcasting object dtype arrays on .fillna, .ffill, .bfill is deprecated and will change in a future version. Call result.infer_objects(copy=False) instead. To opt-in to the future behavior, set `pd.set_option('future.no_silent_downcasting', True)`\n",
      "  df['Genre'] = df.groupby('Name')['Genre'].transform(lambda x: x.fillna(method='ffill').fillna(method='bfill'))\n",
      "C:\\Users\\USER\\AppData\\Local\\Temp\\ipykernel_23764\\4103135343.py:1: SettingWithCopyWarning: \n",
      "A value is trying to be set on a copy of a slice from a DataFrame.\n",
      "Try using .loc[row_indexer,col_indexer] = value instead\n",
      "\n",
      "See the caveats in the documentation: https://pandas.pydata.org/pandas-docs/stable/user_guide/indexing.html#returning-a-view-versus-a-copy\n",
      "  df['Genre'] = df.groupby('Name')['Genre'].transform(lambda x: x.fillna(method='ffill').fillna(method='bfill'))\n"
     ]
    }
   ],
   "source": [
    "df['Genre'] = df.groupby('Name')['Genre'].transform(lambda x: x.fillna(method='ffill').fillna(method='bfill'))\n",
    "#df.groupby('Name')['Genre']: agrupa los registros por el nombre del juego.\n",
    "#.transform: aplica una función y devuelve un resultado alineado con el DataFrame original.\n",
    "#fillna(method='ffill') y fillna(method='bfill'):Rellenan los NaN con valores válidos del mismo grupo (mismo juego), tanto hacia adelante como hacia atrás."
   ]
  },
  {
   "cell_type": "code",
   "execution_count": null,
   "id": "0dca5a64",
   "metadata": {},
   "outputs": [
    {
     "data": {
      "text/plain": [
       "Rank              0\n",
       "Name              0\n",
       "Platform        563\n",
       "Year            848\n",
       "Genre           226\n",
       "Publisher       622\n",
       "NA_Sales          0\n",
       "EU_Sales          0\n",
       "JP_Sales          0\n",
       "Other_Sales       0\n",
       "Global_Sales      0\n",
       "dtype: int64"
      ]
     },
     "execution_count": 79,
     "metadata": {},
     "output_type": "execute_result"
    }
   ],
   "source": [
    "#Aqui como podemos comprobar, no todos los datos nulos fueron recuperados\n",
    "df.isnull().sum()"
   ]
  },
  {
   "cell_type": "code",
   "execution_count": 80,
   "id": "1516ddad",
   "metadata": {},
   "outputs": [],
   "source": [
    "#Procedemos a borrar los datos restantes\n",
    "df = df.dropna(subset=['Genre'])"
   ]
  },
  {
   "cell_type": "code",
   "execution_count": 81,
   "id": "ecc497b9",
   "metadata": {},
   "outputs": [
    {
     "data": {
      "text/plain": [
       "Rank              0\n",
       "Name              0\n",
       "Platform        553\n",
       "Year            840\n",
       "Genre             0\n",
       "Publisher       612\n",
       "NA_Sales          0\n",
       "EU_Sales          0\n",
       "JP_Sales          0\n",
       "Other_Sales       0\n",
       "Global_Sales      0\n",
       "dtype: int64"
      ]
     },
     "execution_count": 81,
     "metadata": {},
     "output_type": "execute_result"
    }
   ],
   "source": [
    "#Corroboramos que no haya quedado ni un dato nulo\n",
    "df.isnull().sum()"
   ]
  },
  {
   "cell_type": "markdown",
   "id": "9dce3eca",
   "metadata": {},
   "source": [
    "------------------------------------"
   ]
  },
  {
   "cell_type": "markdown",
   "id": "5c1e6625",
   "metadata": {},
   "source": [
    "# Limpieza columna \"Publisher\" #"
   ]
  },
  {
   "cell_type": "markdown",
   "id": "23a1db3c",
   "metadata": {},
   "source": [
    "al igual que con la columna anterior, se repetira la estrategia para tratar de recuperar la mayor cantidad posible de datos: rellenar datos faltantes con datos existentes y que son similares y dropear los datos que no se puedan recuperar"
   ]
  },
  {
   "cell_type": "code",
   "execution_count": 82,
   "id": "59950188",
   "metadata": {},
   "outputs": [
    {
     "name": "stderr",
     "output_type": "stream",
     "text": [
      "C:\\Users\\USER\\AppData\\Local\\Temp\\ipykernel_23764\\1676737564.py:1: FutureWarning: Series.fillna with 'method' is deprecated and will raise in a future version. Use obj.ffill() or obj.bfill() instead.\n",
      "  df['Publisher'] = df.groupby('Name')['Publisher'].transform(lambda x: x.fillna(method='ffill').fillna(method='bfill'))\n",
      "C:\\Users\\USER\\AppData\\Local\\Temp\\ipykernel_23764\\1676737564.py:1: FutureWarning: Downcasting object dtype arrays on .fillna, .ffill, .bfill is deprecated and will change in a future version. Call result.infer_objects(copy=False) instead. To opt-in to the future behavior, set `pd.set_option('future.no_silent_downcasting', True)`\n",
      "  df['Publisher'] = df.groupby('Name')['Publisher'].transform(lambda x: x.fillna(method='ffill').fillna(method='bfill'))\n",
      "C:\\Users\\USER\\AppData\\Local\\Temp\\ipykernel_23764\\1676737564.py:1: SettingWithCopyWarning: \n",
      "A value is trying to be set on a copy of a slice from a DataFrame.\n",
      "Try using .loc[row_indexer,col_indexer] = value instead\n",
      "\n",
      "See the caveats in the documentation: https://pandas.pydata.org/pandas-docs/stable/user_guide/indexing.html#returning-a-view-versus-a-copy\n",
      "  df['Publisher'] = df.groupby('Name')['Publisher'].transform(lambda x: x.fillna(method='ffill').fillna(method='bfill'))\n"
     ]
    }
   ],
   "source": [
    "df['Publisher'] = df.groupby('Name')['Publisher'].transform(lambda x: x.fillna(method='ffill').fillna(method='bfill'))"
   ]
  },
  {
   "cell_type": "code",
   "execution_count": null,
   "id": "a7ad661d",
   "metadata": {},
   "outputs": [
    {
     "data": {
      "text/plain": [
       "np.int64(252)"
      ]
     },
     "execution_count": 83,
     "metadata": {},
     "output_type": "execute_result"
    }
   ],
   "source": [
    "#Comprobamos cuantos datos pudimos recuperar (en este caso fueron 360)\n",
    "df[\"Publisher\"].isnull().sum()"
   ]
  },
  {
   "cell_type": "code",
   "execution_count": 84,
   "id": "e270b7f7",
   "metadata": {},
   "outputs": [],
   "source": [
    "#Ahora procedemos a dropear los datos que no se pudieron recuperar\n",
    "df = df.dropna(subset=[\"Publisher\"])"
   ]
  },
  {
   "cell_type": "code",
   "execution_count": 87,
   "id": "570f27cc",
   "metadata": {},
   "outputs": [
    {
     "data": {
      "text/plain": [
       "np.int64(0)"
      ]
     },
     "execution_count": 87,
     "metadata": {},
     "output_type": "execute_result"
    }
   ],
   "source": [
    "#Corroboramos que ya no tenemos datos nulos\n",
    "df[\"Publisher\"].isnull().sum()"
   ]
  },
  {
   "cell_type": "markdown",
   "id": "4f3bdb4a",
   "metadata": {},
   "source": [
    "Ahora simplemente nos deshacemos de los datos invalidos de la misma manera (Transformando los datos invalidos en datos Nan y posteriormente rellenandolos de ser posible y en caso de que no, dropearlos)"
   ]
  },
  {
   "cell_type": "code",
   "execution_count": 88,
   "id": "0f9d25f7",
   "metadata": {},
   "outputs": [],
   "source": [
    "#Reemplazamos los datos invalidos por datos nulos\n",
    "df[\"Publisher\"] = df[\"Publisher\"].replace(\"Auto%#\", np.nan)"
   ]
  },
  {
   "cell_type": "code",
   "execution_count": 89,
   "id": "ec0ca5c3",
   "metadata": {},
   "outputs": [
    {
     "name": "stderr",
     "output_type": "stream",
     "text": [
      "C:\\Users\\USER\\AppData\\Local\\Temp\\ipykernel_23764\\1676737564.py:1: FutureWarning: Series.fillna with 'method' is deprecated and will raise in a future version. Use obj.ffill() or obj.bfill() instead.\n",
      "  df['Publisher'] = df.groupby('Name')['Publisher'].transform(lambda x: x.fillna(method='ffill').fillna(method='bfill'))\n",
      "C:\\Users\\USER\\AppData\\Local\\Temp\\ipykernel_23764\\1676737564.py:1: FutureWarning: Downcasting object dtype arrays on .fillna, .ffill, .bfill is deprecated and will change in a future version. Call result.infer_objects(copy=False) instead. To opt-in to the future behavior, set `pd.set_option('future.no_silent_downcasting', True)`\n",
      "  df['Publisher'] = df.groupby('Name')['Publisher'].transform(lambda x: x.fillna(method='ffill').fillna(method='bfill'))\n"
     ]
    }
   ],
   "source": [
    "df['Publisher'] = df.groupby('Name')['Publisher'].transform(lambda x: x.fillna(method='ffill').fillna(method='bfill'))"
   ]
  },
  {
   "cell_type": "code",
   "execution_count": 90,
   "id": "77fc1dbe",
   "metadata": {},
   "outputs": [],
   "source": [
    "#Volvemos a dropear los registros sobrantes\n",
    "df = df.dropna(subset=[\"Publisher\"])"
   ]
  },
  {
   "cell_type": "code",
   "execution_count": 91,
   "id": "5ba45540",
   "metadata": {},
   "outputs": [
    {
     "data": {
      "text/plain": [
       "np.int64(0)"
      ]
     },
     "execution_count": 91,
     "metadata": {},
     "output_type": "execute_result"
    }
   ],
   "source": [
    "#Nuevamente comprobamos que no tenemos datos nulos\n",
    "df[\"Publisher\"].isnull().sum()"
   ]
  },
  {
   "cell_type": "markdown",
   "id": "850937c9",
   "metadata": {},
   "source": [
    "----------------------------------"
   ]
  },
  {
   "cell_type": "markdown",
   "id": "89f963de",
   "metadata": {},
   "source": [
    "# Limpieza columna \"Platform\" #"
   ]
  },
  {
   "cell_type": "markdown",
   "id": "2e1c540e",
   "metadata": {},
   "source": [
    "Esta limpieza fue una desicion dificil de tomar, ya que NO hay forma de recuperar este dato de ninguna forma. Por lo tanto al no haber forma de recuperar el dato, al ser informacion VITAL para el analisis y (afortunadamente) representar menos del 5% de los datos totales, se opto por dropear los registros."
   ]
  },
  {
   "cell_type": "code",
   "execution_count": null,
   "id": "dae66436",
   "metadata": {},
   "outputs": [
    {
     "data": {
      "text/plain": [
       "np.int64(531)"
      ]
     },
     "execution_count": 98,
     "metadata": {},
     "output_type": "execute_result"
    }
   ],
   "source": [
    "#comprobamos la cantidad de datos nulos en la columna\n",
    "df[\"Platform\"].isnull().sum()"
   ]
  },
  {
   "cell_type": "code",
   "execution_count": 101,
   "id": "1c68dd81",
   "metadata": {},
   "outputs": [],
   "source": [
    "#Procedemos a dropear los registros\n",
    "df = df.dropna(subset=[\"Platform\"])"
   ]
  },
  {
   "cell_type": "code",
   "execution_count": 102,
   "id": "a1d29a6e",
   "metadata": {},
   "outputs": [
    {
     "data": {
      "text/plain": [
       "np.int64(0)"
      ]
     },
     "execution_count": 102,
     "metadata": {},
     "output_type": "execute_result"
    }
   ],
   "source": [
    "#Comprobamos que no tenemos ningun registro nulo\n",
    "df[\"Platform\"].isnull().sum()"
   ]
  },
  {
   "cell_type": "markdown",
   "id": "698ab01b",
   "metadata": {},
   "source": [
    "------------------------------"
   ]
  },
  {
   "cell_type": "markdown",
   "id": "f77859a0",
   "metadata": {},
   "source": [
    "# Limpieza columna \"Year\" #"
   ]
  },
  {
   "cell_type": "markdown",
   "id": "171c0f4c",
   "metadata": {},
   "source": [
    "Nuevamente al igual que con la columna anterior, por ser un dato sumamente importante para el analisis y no poder ser recuperado, se opto por la dificil desicion de dropear los registros. Ustedes podran preguntarse, por que no podemos usar la misma estrategia de rellenar la fecha segun el nombre del videojuego?\n",
    "\n",
    "Si bien es posible y en varios de los casos seria un acierto, NO en todas los casos aplicaria (juegos que, por ejemplo, aunque son excepciones, fueron lanzados primero para unas consolas en particular y despues para otras)\n",
    "y eso podria llevar a conclusiones erroneas o no acertadas, poniendo en peligro la integridad del analisis. Por lo tanto a pesar de que entre datos nulos y datos invalidos, representan mas del 5% de los datos (7.3%), se opto por dropearlos. (En caso de no haber sido la decision adecuada, se aceptara la penalizacion correspondiente)"
   ]
  },
  {
   "cell_type": "code",
   "execution_count": null,
   "id": "2d11724c",
   "metadata": {},
   "outputs": [
    {
     "data": {
      "text/plain": [
       "Year\n",
       "2008.0    1307\n",
       "2009.0    1294\n",
       "2010.0    1163\n",
       "2007.0    1115\n",
       "2011.0    1006\n",
       "2006.0     912\n",
       "2005.0     840\n",
       "2002.0     763\n",
       "2003.0     728\n",
       "2004.0     664\n",
       "2012.0     595\n",
       "2015.0     575\n",
       "2014.0     549\n",
       "2013.0     497\n",
       "2001.0     438\n",
       "1998.0     350\n",
       "Auto%#     337\n",
       "2000.0     333\n",
       "2016.0     322\n",
       "1999.0     314\n",
       "1997.0     259\n",
       "1996.0     235\n",
       "1995.0     200\n",
       "1994.0     112\n",
       "1993.0      52\n",
       "1981.0      47\n",
       "1991.0      40\n",
       "1992.0      33\n",
       "1982.0      32\n",
       "1987.0      16\n",
       "1989.0      16\n",
       "1986.0      16\n",
       "1990.0      14\n",
       "1985.0      13\n",
       "1983.0      12\n",
       "1988.0      12\n",
       "1984.0      10\n",
       "1980.0       7\n",
       "2017.0       4\n",
       "2020.0       1\n",
       "Name: count, dtype: int64"
      ]
     },
     "execution_count": 106,
     "metadata": {},
     "output_type": "execute_result"
    }
   ],
   "source": [
    "#Corroborando la cantidad de datos invalidos (337)\n",
    "df[\"Year\"].value_counts()"
   ]
  },
  {
   "cell_type": "code",
   "execution_count": 111,
   "id": "d24e1973",
   "metadata": {},
   "outputs": [
    {
     "name": "stderr",
     "output_type": "stream",
     "text": [
      "C:\\Users\\USER\\AppData\\Local\\Temp\\ipykernel_23764\\1573865366.py:2: SettingWithCopyWarning: \n",
      "A value is trying to be set on a copy of a slice from a DataFrame.\n",
      "Try using .loc[row_indexer,col_indexer] = value instead\n",
      "\n",
      "See the caveats in the documentation: https://pandas.pydata.org/pandas-docs/stable/user_guide/indexing.html#returning-a-view-versus-a-copy\n",
      "  df[\"Year\"] = df[\"Year\"].replace(\"Auto%#\", np.nan)\n"
     ]
    }
   ],
   "source": [
    "#Reemplazando los datos invalidos por datos nulos\n",
    "df[\"Year\"] = df[\"Year\"].replace(\"Auto%#\", np.nan)"
   ]
  },
  {
   "cell_type": "code",
   "execution_count": 112,
   "id": "373649b2",
   "metadata": {},
   "outputs": [],
   "source": [
    "#Dropeamos todos los datos nulos\n",
    "df = df.dropna(subset=[\"Year\"])"
   ]
  },
  {
   "cell_type": "code",
   "execution_count": 113,
   "id": "1067e2e8",
   "metadata": {},
   "outputs": [
    {
     "data": {
      "text/plain": [
       "np.int64(0)"
      ]
     },
     "execution_count": 113,
     "metadata": {},
     "output_type": "execute_result"
    }
   ],
   "source": [
    "#corroboramos que ya no hay ningun dato invalido en la columnna\n",
    "df[\"Year\"].isnull().sum()"
   ]
  },
  {
   "cell_type": "markdown",
   "id": "2bb3e4c7",
   "metadata": {},
   "source": [
    "----------------------------------"
   ]
  },
  {
   "cell_type": "markdown",
   "id": "795a78d8",
   "metadata": {},
   "source": [
    "# Detalles extra antes de finalizar #"
   ]
  },
  {
   "cell_type": "markdown",
   "id": "4e7d5dc7",
   "metadata": {},
   "source": [
    "Un Pequeño detalle extra a nuestra limpieza es corregir el formato de una columna, siendo esta la columna de \"Year\" ya que esta como tipo object cuando deberia ser tipo int"
   ]
  },
  {
   "cell_type": "code",
   "execution_count": null,
   "id": "80a801a0",
   "metadata": {},
   "outputs": [
    {
     "name": "stderr",
     "output_type": "stream",
     "text": [
      "C:\\Users\\USER\\AppData\\Local\\Temp\\ipykernel_23764\\2870239837.py:1: SettingWithCopyWarning: \n",
      "A value is trying to be set on a copy of a slice from a DataFrame.\n",
      "Try using .loc[row_indexer,col_indexer] = value instead\n",
      "\n",
      "See the caveats in the documentation: https://pandas.pydata.org/pandas-docs/stable/user_guide/indexing.html#returning-a-view-versus-a-copy\n",
      "  df['Year'] = df['Year'].astype(float)\n"
     ]
    }
   ],
   "source": [
    "#Al ser un object, primero lo convertimos a float\n",
    "df['Year'] = df['Year'].astype(float)"
   ]
  },
  {
   "cell_type": "code",
   "execution_count": null,
   "id": "089542a9",
   "metadata": {},
   "outputs": [
    {
     "name": "stderr",
     "output_type": "stream",
     "text": [
      "C:\\Users\\USER\\AppData\\Local\\Temp\\ipykernel_23764\\1186596301.py:1: SettingWithCopyWarning: \n",
      "A value is trying to be set on a copy of a slice from a DataFrame.\n",
      "Try using .loc[row_indexer,col_indexer] = value instead\n",
      "\n",
      "See the caveats in the documentation: https://pandas.pydata.org/pandas-docs/stable/user_guide/indexing.html#returning-a-view-versus-a-copy\n",
      "  df['Year'] = df['Year'].astype(int)\n"
     ]
    }
   ],
   "source": [
    "#Convertimos a int\n",
    "df['Year'] = df['Year'].astype(int)"
   ]
  },
  {
   "cell_type": "markdown",
   "id": "cfd24bb5",
   "metadata": {},
   "source": [
    "Otro detalle que si bien es meramente estetico, se tomara en cuenta: Traducir los nombres de las columnas."
   ]
  },
  {
   "cell_type": "code",
   "execution_count": 125,
   "id": "51813c9d",
   "metadata": {},
   "outputs": [
    {
     "name": "stderr",
     "output_type": "stream",
     "text": [
      "C:\\Users\\USER\\AppData\\Local\\Temp\\ipykernel_23764\\162015355.py:1: SettingWithCopyWarning: \n",
      "A value is trying to be set on a copy of a slice from a DataFrame\n",
      "\n",
      "See the caveats in the documentation: https://pandas.pydata.org/pandas-docs/stable/user_guide/indexing.html#returning-a-view-versus-a-copy\n",
      "  df.rename(columns={\n"
     ]
    }
   ],
   "source": [
    "df.rename(columns={\n",
    "    'Name': 'Nombre',\n",
    "    'Platform': 'Plataforma',\n",
    "    'Year': 'Año',\n",
    "    'Genre': 'Género',\n",
    "    'Publisher': 'Editorial',\n",
    "    'NA_Sales': 'Ventas_NA',\n",
    "    'EU_Sales': 'Ventas_EU',\n",
    "    'JP_Sales': 'Ventas_JP',\n",
    "    'Other_Sales': 'Ventas_Otras',\n",
    "    'Global_Sales': 'Ventas_Globales'\n",
    "}, inplace=True)"
   ]
  },
  {
   "cell_type": "markdown",
   "id": "5d708e14",
   "metadata": {},
   "source": [
    "-------------------------------"
   ]
  },
  {
   "cell_type": "markdown",
   "id": "dcabf9de",
   "metadata": {},
   "source": [
    "# Guardar nuestra base de datos limpia #"
   ]
  },
  {
   "cell_type": "markdown",
   "id": "7bea6d48",
   "metadata": {},
   "source": [
    "Tras toda la limpieza que realizamos, ya podemos guardar nuestro trabajo en un csv."
   ]
  },
  {
   "cell_type": "code",
   "execution_count": 127,
   "id": "a56c508d",
   "metadata": {},
   "outputs": [
    {
     "data": {
      "text/plain": [
       "Rank               0\n",
       "Nombre             0\n",
       "Plataforma         0\n",
       "Año                0\n",
       "Género             0\n",
       "Editorial          0\n",
       "Ventas_NA          0\n",
       "Ventas_EU          0\n",
       "Ventas_JP          0\n",
       "Ventas_Otras       0\n",
       "Ventas_Globales    0\n",
       "dtype: int64"
      ]
     },
     "execution_count": 127,
     "metadata": {},
     "output_type": "execute_result"
    }
   ],
   "source": [
    "#Comprobando que en efecto, ya no se cuenta ni con datos nulos ni datos invalidos\n",
    "df.isnull().sum()"
   ]
  },
  {
   "cell_type": "code",
   "execution_count": 129,
   "id": "b84997f3",
   "metadata": {},
   "outputs": [],
   "source": [
    "#Procedemos a guardar nuestra nueva base limpia en un csv\n",
    "df.to_csv(\"Basededatoslimpiaa.csv\", index =False)"
   ]
  }
 ],
 "metadata": {
  "kernelspec": {
   "display_name": "Python 3",
   "language": "python",
   "name": "python3"
  },
  "language_info": {
   "codemirror_mode": {
    "name": "ipython",
    "version": 3
   },
   "file_extension": ".py",
   "mimetype": "text/x-python",
   "name": "python",
   "nbconvert_exporter": "python",
   "pygments_lexer": "ipython3",
   "version": "3.13.7"
  }
 },
 "nbformat": 4,
 "nbformat_minor": 5
}
